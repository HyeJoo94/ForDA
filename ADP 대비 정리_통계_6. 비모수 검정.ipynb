{
 "cells": [
  {
   "cell_type": "markdown",
   "id": "1fbe094b",
   "metadata": {},
   "source": [
    "![0](./nonparametric_1.png)"
   ]
  },
  {
   "cell_type": "markdown",
   "id": "debe5790",
   "metadata": {},
   "source": [
    "![2](./nonparametric_2.png)"
   ]
  },
  {
   "cell_type": "markdown",
   "id": "212cc86e",
   "metadata": {},
   "source": [
    "![3](./nonparametric_3.png)"
   ]
  },
  {
   "cell_type": "markdown",
   "id": "c74cb587",
   "metadata": {},
   "source": [
    "![4](./nonparametric_4.png)"
   ]
  },
  {
   "cell_type": "markdown",
   "id": "c0f87bc0",
   "metadata": {},
   "source": [
    "# Ch 6. 비모수 검정\n",
    "\n",
    "## 0. 비모수적 방법?\n",
    "- 관측값이 특정한 확률분포를 따른다고 전제하기 어렵거나, 모집단에 대한 정보가 부족한 경우 실시\n",
    "- 분포에 대한 기본 가정을 필요로 하지 않는 '분포무관' 방법\n",
    "- 가정에서 자유롭고 이상치에 민감하지 않음"
   ]
  },
  {
   "cell_type": "markdown",
   "id": "9193a886",
   "metadata": {},
   "source": [
    "## 1. 부호 검정 (Sign Test)\n",
    "\n",
    "### 1) 정의\n",
    "- 분포의 동일성 검정\n",
    "- 모집단의 중앙값에 대한 검정 (위치모수 이용)\n",
    "\n",
    "### 2) 실행 과정\n",
    "\n",
    "$$ H_0 : M = M_0 $$\n",
    "$$ H_1 : M \\neq M_0 $$\n",
    "\n",
    "모집단의 중앙값이 $M$인 연속분포에서 $n$개의 표본 $(Y_1, Y_2, \\ldots , Y_n)$을 추출하였을 때 $ \\frac{n}{2} $개는 중앙값보다 크다. 아래는 부호(확률변수)와 검정통계량을 나타낸 식이다.\n",
    "\n",
    "$$ S_i = \\begin{cases} \n",
    "         1 & \\mbox{ $Y_i$ - $M_0$ > 0} \\\\\n",
    "         0 & \\mbox{ $Y_i$ - $M_0$ < 0} \n",
    "         \\end{cases}$$\n",
    "         \n",
    "$$ B = \\sum^n_{i = 1}{S_i} $$\n",
    "\n",
    "$H_0$ 하에서 $ P(S_i = 1) = \\cfrac{1}{2} $이며 $ S_i \\perp S_j $이므로 $B$는 이항분포를 따르며, 표준화된 검정통계량 $Z_B$는 다음과 같다.\n",
    "\n",
    "$$ B \\sim B\\big(n, \\frac{1}{2}\\big) \\; \\rightarrow \\; Z_B = \\cfrac{B - \\dfrac{n}{2}}{\\sqrt{\\dfrac{n}{4}}} $$"
   ]
  },
  {
   "cell_type": "markdown",
   "id": "20265b11",
   "metadata": {},
   "source": [
    "## 2. Wilcoxon 부호순위 검정 (Wilcoxon Signed Rank Test) (일표본)\n",
    "\n",
    "### 1) 정의\n",
    "- 모집단의 중앙값을 이용한 분포의 동일성 검정\n",
    "- Sign Test와 다르게, <span style = \"font-weight:bold\"> 각 표본의 크기도 </span> 고려하여 정보 손실을 줄인다.\n",
    "\n",
    "### 2) Assumption\n",
    "① 모집단으로부터 <span style = \"font-weight : bold\"> 독립적으로 </span> 추출한 표본이다.  \n",
    "② 위치모수 $ M_0 $와 같은 데이터는 제외하고 계산한다.  \n",
    "③ 동순위가 있는 경우, 분산을 수정하여 계산한다.\n",
    "\n",
    "### 2) 실행 과정\n",
    "\n",
    "$$ H_0 : M = M_0 $$\n",
    "$$ H_1 : M \\neq M_0 $$\n",
    "\n",
    "모집단의 중앙값이 $M$인 연속분포에서 $n$개의 표본 $(Y_1, Y_2, \\ldots , Y_n)$을 추출하였을 때 $ \\frac{n}{2} $개는 중앙값보다 크다. 아래는 부호 및 순위(확률변수)와 검정통계량을 나타낸 식이다.\n",
    "\n",
    "$$ S_i = \\begin{cases} \n",
    "         1 & \\mbox{ $Y_i$ - $M_0$ > 0} \\\\\n",
    "         0 & \\mbox{ $Y_i$ - $M_0$ < 0} \n",
    "         \\end{cases}$$\n",
    "\n",
    "$$ R_i = Rank( \\mbox{ |$Y_i$ - $M_0$| } ) $$ \n",
    "\n",
    "$$ W^+ = \\sum^n_{i = 1}{S_iR_i^+} $$\n",
    "\n",
    "$ H_0 $ 하에서 $ W^+ $의 분포도 대칭이므로 표준화된 검정통계량은 다음과 같다.\n",
    "\n",
    "$$ E(W^+) = \\cfrac{n(n + 1)}{4} \\; , \\quad \\mbox{$Var(W^+) = \\cfrac{n(n + 1)(2n + 1)}{24} $ }$$\n",
    "\n",
    "$$ \\rightarrow Z_{W^+} = \\cfrac{W^+ - E(W^+)}{\\sqrt{Var(W^+)}} = \\cfrac{W^+ - \\dfrac{n(n + 1)}{4}}{\\sqrt{\\dfrac{n(n + 1)(2n + 1)}{24}}} $$\n",
    "\n",
    "$$ \\mbox{※ 동점이 있는 경우 : } Var(W^+) = \\Bigg[\\cfrac{n(n + 1)(2n + 1)}{24} - \\frac{1}{2}\\sum^g_{j = 1}{t_j(t_j - 1)(t_j + 1)}\\Bigg]$$"
   ]
  },
  {
   "cell_type": "markdown",
   "id": "6312f9f7",
   "metadata": {},
   "source": [
    "## 3. Wilcoxon 순위합 검정 (Mann-Whitney U Test)\n",
    "\n",
    "### 1) 정의\n",
    "- <span style=\"font-weight:bold\"> 독립 이표본</span>의 중위수를 이용한 분포의 동일성 검정\n",
    "\n",
    "### 2) Assumption\n",
    "① 두 모집단은 서로 독립이다.  \n",
    "② 두 모집단은 동일한 분포를 갖는다.  \n",
    "③ 두 모집단은 연속분포이다.\n",
    "\n",
    "### 3) 실행 과정\n",
    "\n",
    "$$ H_0 : \\delta = 0 $$\n",
    "$$ H_1 : \\delta \\neq 0 $$\n",
    "\n",
    "두 모집단으로부터 각각 $m$개의 표본 $(X_1, X_2, \\ldots , X_m)$과 $n$개의 표본 $(Y_1, Y_2, \\ldots , Y_n)$을 추출하였을 때, 두 모집단의 중앙값의 차이를 $\\delta$라 한다. ($ m \\geq n $)\n",
    "\n",
    "$$ R_j : \\mbox{두 모집단의 혼합표본 $(X_1, X_2, \\ldots , X_m, Y_1, Y_2, \\ldots , Y_n)$에서의 $Y_j$의 순위일 때, } $$\n",
    "\n",
    "$$ W = \\sum^n_{j = 1}{R_j} $$\n",
    "\n",
    "$W$가 가질 수 있는 최댓값 및 최솟값은 각각 $ W_{min} = \\frac{n(n + 1)}{2}, \\quad W_{max} = mn + \\frac{n(n+1)}{2} $이다. \n",
    "\n",
    "$H_0$ 하에서 $W$의 분포는 대칭이므로, 표준화된 검정통계량(대표본 근사)은 다음과 같다.\n",
    "\n",
    "$$ E(W) = \\cfrac{n(m + n + 1)}{2} \\; , \\quad \\mbox{$Var(W) = \\cfrac{mn(m + n + 1)}{12} $ }$$\n",
    "\n",
    "$$ \\rightarrow Z_{W} = \\cfrac{W - E(W)}{\\sqrt{Var(W)}} = \\cfrac{W - \\dfrac{n(m + n + 1)}{2}}{\\sqrt{\\dfrac{mn(m + n + 1)}{12}}} $$\n",
    "\n",
    "$$ \\mbox{※ 동점이 있는 경우 : } Var(W) = \\frac{mn}{12}\\Bigg[(m + n + 1) - \\frac{\\sum^g_{j = 1}{t_j(t_j - 1)(t_j + 1)}}{(m + n)(m + n + 1)}\\Bigg]$$\n",
    "\n",
    "### 4) Mann-Whitney U Test\n",
    "$$ U = W - \\cfrac{n (n + 1)}{2} = \\sum^n_{j = 1}{R_j} - \\cfrac{n (n + 1)}{2}$$\n",
    "\n",
    "검정통계량 $W$와 $U$는 동일한 분포를 따른다."
   ]
  },
  {
   "cell_type": "markdown",
   "id": "68aaa820",
   "metadata": {},
   "source": [
    "## 4. Wilcoxon Matched Pairs Signed Rank Test\n",
    "\n",
    "### 1) 정의\n",
    "\n",
    "### 2) Assumption\n",
    "\n",
    "### 3) 실행 과정"
   ]
  },
  {
   "cell_type": "markdown",
   "id": "9c63b71f",
   "metadata": {},
   "source": [
    "## 5. Run Test\n",
    "\n",
    "### 1) 정의\n",
    "\n",
    "### 2) Assumption\n",
    "\n",
    "### 3) 실행 과정"
   ]
  },
  {
   "cell_type": "markdown",
   "id": "38895adb",
   "metadata": {},
   "source": [
    "##### 참고 자료\n",
    "[Reference 1](https://recipesds.tistory.com/entry/%EC%96%B4%EB%94%94%EC%97%90-%EC%96%B4%EB%96%A4-%EB%AA%A8%EC%88%98-%EA%B2%80%EC%A0%95%EA%B3%BC-%EB%B9%84%EB%AA%A8%EC%88%98-%EA%B2%80%EC%A0%95%EC%9D%84-%EC%93%B8-%EC%88%98-%EC%9E%88%EB%8A%94%EC%A7%80-%EB%8C%80%ED%83%90%ED%97%98-%EA%B7%B8%EB%A6%AC%EA%B3%A0-%ED%8C%8C%EC%9D%B4%EC%8D%AC)  "
   ]
  },
  {
   "cell_type": "code",
   "execution_count": 84,
   "id": "17188540",
   "metadata": {},
   "outputs": [],
   "source": [
    "data = [116, 123, 112, 118, 108, 130, 116, 115, 105, 111, \n",
    "        115, 117, 135, 106, 120]"
   ]
  },
  {
   "cell_type": "code",
   "execution_count": 85,
   "id": "8f4bf398",
   "metadata": {},
   "outputs": [
    {
     "name": "stdout",
     "output_type": "stream",
     "text": [
      "Statistic :  1.5\n",
      "P-Value :  0.5810546875\n"
     ]
    }
   ],
   "source": [
    "# 1. 부호 검정 (Sign Test)\n",
    "from statsmodels.stats.descriptivestats import sign_test\n",
    "\n",
    "result = sign_test(data, mu0 = 115)\n",
    "print(\"Statistic : \", result[0])\n",
    "print(\"P-Value : \", result[1])"
   ]
  },
  {
   "cell_type": "code",
   "execution_count": 86,
   "id": "1074817b",
   "metadata": {},
   "outputs": [
    {
     "data": {
      "text/plain": [
       "WilcoxonResult(statistic=51.5, pvalue=0.3373997452442078)"
      ]
     },
     "execution_count": 86,
     "metadata": {},
     "output_type": "execute_result"
    }
   ],
   "source": [
    "# 2. 윌콕슨 부호순위 검정 (일표본) (Wilcoxon Signed Rank Test)\n",
    "from scipy.stats import wilcoxon\n",
    "mu0 = 115\n",
    "\n",
    "wilcoxon(pd.Series(data2) - mu0, alternative = 'greater')"
   ]
  },
  {
   "cell_type": "code",
   "execution_count": 90,
   "id": "94216fca",
   "metadata": {},
   "outputs": [],
   "source": [
    "data_x = [6.3, 6.8, 5.7, 8.4, 7.1, 5.6, 4.3, 6.6, 3.8]\n",
    "data_y = [7.8, 6.3, 5.7, 8.6, 9.8, 6.4, 10.2, 6.5]"
   ]
  },
  {
   "cell_type": "code",
   "execution_count": 92,
   "id": "b9eb26ba",
   "metadata": {},
   "outputs": [
    {
     "data": {
      "text/plain": [
       "MannwhitneyuResult(statistic=19.0, pvalue=0.05595544461068669)"
      ]
     },
     "execution_count": 92,
     "metadata": {},
     "output_type": "execute_result"
    }
   ],
   "source": [
    "# 3. 윌콕슨 순위합 검정 (Mann-Whitney U Test)\n",
    "from scipy.stats import mannwhitneyu\n",
    "\n",
    "mannwhitneyu(data_x, data_y, alternative = 'less')"
   ]
  },
  {
   "cell_type": "code",
   "execution_count": null,
   "id": "17df35d0",
   "metadata": {},
   "outputs": [],
   "source": []
  }
 ],
 "metadata": {
  "kernelspec": {
   "display_name": "Python 3 (ipykernel)",
   "language": "python",
   "name": "python3"
  },
  "language_info": {
   "codemirror_mode": {
    "name": "ipython",
    "version": 3
   },
   "file_extension": ".py",
   "mimetype": "text/x-python",
   "name": "python",
   "nbconvert_exporter": "python",
   "pygments_lexer": "ipython3",
   "version": "3.10.11"
  }
 },
 "nbformat": 4,
 "nbformat_minor": 5
}
